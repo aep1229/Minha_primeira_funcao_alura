{
 "cells": [
  {
   "cell_type": "code",
   "execution_count": 1,
   "id": "4d690110",
   "metadata": {},
   "outputs": [],
   "source": [
    "nome = 'Guilherme'"
   ]
  },
  {
   "cell_type": "code",
   "execution_count": 2,
   "id": "329c8ccc",
   "metadata": {},
   "outputs": [
    {
     "data": {
      "text/plain": [
       "'Guilherme'"
      ]
     },
     "execution_count": 2,
     "metadata": {},
     "output_type": "execute_result"
    }
   ],
   "source": [
    "nome"
   ]
  },
  {
   "cell_type": "code",
   "execution_count": 4,
   "id": "6f76c1d7",
   "metadata": {},
   "outputs": [],
   "source": [
    "idade = 19 "
   ]
  },
  {
   "cell_type": "code",
   "execution_count": 5,
   "id": "b97ecc68",
   "metadata": {},
   "outputs": [
    {
     "data": {
      "text/plain": [
       "19"
      ]
     },
     "execution_count": 5,
     "metadata": {},
     "output_type": "execute_result"
    }
   ],
   "source": [
    "idade"
   ]
  },
  {
   "cell_type": "code",
   "execution_count": 8,
   "id": "8b5ef3b3",
   "metadata": {},
   "outputs": [
    {
     "name": "stdout",
     "output_type": "stream",
     "text": [
      "O nome é Guilherme e sua idade é 19 anos\n"
     ]
    }
   ],
   "source": [
    "print(f'O nome é {nome} e sua idade é {idade} anos')"
   ]
  },
  {
   "cell_type": "markdown",
   "id": "023b2031",
   "metadata": {},
   "source": [
    "# Criando minha primeira função"
   ]
  },
  {
   "cell_type": "code",
   "execution_count": 11,
   "id": "27c6b1ba",
   "metadata": {},
   "outputs": [],
   "source": [
    "def saudacao():\n",
    "    nome = input('Qual é o seu nome? ')\n",
    "    print(f'Olá {nome}')"
   ]
  },
  {
   "cell_type": "code",
   "execution_count": 12,
   "id": "3334f023",
   "metadata": {},
   "outputs": [
    {
     "name": "stdout",
     "output_type": "stream",
     "text": [
      "Qual é o seu nome? Amanda\n",
      "Olá Amanda\n"
     ]
    }
   ],
   "source": [
    "saudacao()"
   ]
  },
  {
   "cell_type": "markdown",
   "id": "2698b08f",
   "metadata": {},
   "source": [
    "# Função saudacao"
   ]
  },
  {
   "cell_type": "code",
   "execution_count": 14,
   "id": "ae2e3c80",
   "metadata": {},
   "outputs": [],
   "source": [
    "def saudacao_2():\n",
    "    nome = input('Qual o seu nome? ')\n",
    "    print(f'Olá {nome}!')"
   ]
  },
  {
   "cell_type": "code",
   "execution_count": 16,
   "id": "6d8d64f9",
   "metadata": {},
   "outputs": [
    {
     "name": "stdout",
     "output_type": "stream",
     "text": [
      "Qual o seu nome? Amanda\n",
      "Olá Amanda!\n"
     ]
    }
   ],
   "source": [
    "saudacao_2()"
   ]
  },
  {
   "cell_type": "markdown",
   "id": "a4764051",
   "metadata": {},
   "source": [
    "# Nome completo"
   ]
  },
  {
   "cell_type": "code",
   "execution_count": 22,
   "id": "24e55690",
   "metadata": {},
   "outputs": [],
   "source": [
    "def nome_completo():\n",
    "    primeiro_nome = input('Qual o seu primeiro nome? ')\n",
    "    segundo_nome = input('Qual o seu segundo nome? ')\n",
    "    \n",
    "    nome_inteiro = primeiro_nome + ' ' + segundo_nome\n",
    "    \n",
    "    print(f'Olá {nome_inteiro}')\n",
    "    "
   ]
  },
  {
   "cell_type": "code",
   "execution_count": 23,
   "id": "d37a3a2e",
   "metadata": {},
   "outputs": [
    {
     "name": "stdout",
     "output_type": "stream",
     "text": [
      "Qual o seu primeiro nome? Amanda\n",
      "Qual o seu segundo nome? Esnarriaga\n",
      "Olá Amanda Esnarriaga\n"
     ]
    }
   ],
   "source": [
    "nome_completo()"
   ]
  },
  {
   "cell_type": "code",
   "execution_count": null,
   "id": "21a14996",
   "metadata": {},
   "outputs": [],
   "source": []
  }
 ],
 "metadata": {
  "kernelspec": {
   "display_name": "Python 3 (ipykernel)",
   "language": "python",
   "name": "python3"
  },
  "language_info": {
   "codemirror_mode": {
    "name": "ipython",
    "version": 3
   },
   "file_extension": ".py",
   "mimetype": "text/x-python",
   "name": "python",
   "nbconvert_exporter": "python",
   "pygments_lexer": "ipython3",
   "version": "3.10.9"
  }
 },
 "nbformat": 4,
 "nbformat_minor": 5
}
